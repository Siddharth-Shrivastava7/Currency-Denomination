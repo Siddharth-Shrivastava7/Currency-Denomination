{
 "cells": [
  {
   "cell_type": "code",
   "execution_count": 1,
   "metadata": {},
   "outputs": [
    {
     "name": "stderr",
     "output_type": "stream",
     "text": [
      "Using TensorFlow backend.\n"
     ]
    }
   ],
   "source": [
    "from keras import applications\n",
    "from keras import optimizers\n",
    "from keras.callbacks import ModelCheckpoint, EarlyStopping, TensorBoard\n",
    "from keras.layers import Dense\n",
    "from keras.models import Model\n",
    "from keras.preprocessing.image import ImageDataGenerator"
   ]
  },
  {
   "cell_type": "code",
   "execution_count": 2,
   "metadata": {},
   "outputs": [
    {
     "name": "stdout",
     "output_type": "stream",
     "text": [
      "Found 3218 images belonging to 10 classes.\n",
      "Found 798 images belonging to 10 classes.\n"
     ]
    }
   ],
   "source": [
    "train_datagen = ImageDataGenerator(validation_split=0.2, rescale=1./255)\n",
    "\n",
    "train_generator = train_datagen.flow_from_directory(\n",
    "    '/storage/Full_currency/Full_currency/Augment_full224*224',\n",
    "    target_size=(224, 224),\n",
    "    batch_size=16,\n",
    "    class_mode='categorical',\n",
    "    subset='training')\n",
    "\n",
    "validation_generator = train_datagen.flow_from_directory(\n",
    "    '/storage/Full_currency/Full_currency/Augment_full224*224', # same directory as training data\n",
    "    target_size=(224, 224),\n",
    "    batch_size=16,\n",
    "    class_mode='categorical',subset='validation')"
   ]
  },
  {
   "cell_type": "code",
   "execution_count": 3,
   "metadata": {},
   "outputs": [
    {
     "name": "stdout",
     "output_type": "stream",
     "text": [
      "WARNING:tensorflow:From /opt/conda/lib/python3.7/site-packages/tensorflow/python/framework/op_def_library.py:263: colocate_with (from tensorflow.python.framework.ops) is deprecated and will be removed in a future version.\n",
      "Instructions for updating:\n",
      "Colocations handled automatically by placer.\n"
     ]
    }
   ],
   "source": [
    "def build_model():\n",
    "    # constructing the model using a pre-trained model on ImageNet\n",
    "    model = applications.MobileNet(weights=\"imagenet\", include_top=False, input_shape=(224, 224, 3),\n",
    "                                  pooling='avg')\n",
    "\n",
    "    # only train the last 2 layers\n",
    "    for layer in model.layers[:-2]:\n",
    "        layer.trainable = False\n",
    "\n",
    "    # output for all 10 classes\n",
    "    predictions = Dense(10, activation=\"softmax\")(model.output)\n",
    "\n",
    "    # creating the final model\n",
    "    model_final = Model(inputs=model.input, outputs=predictions)\n",
    "    \n",
    "    return model_final\n",
    "\n",
    "model_final = build_model()\n",
    "# compile the model\n",
    "model_final.compile(loss=\"categorical_crossentropy\", optimizer= optimizers.adam(lr = 0.001), metrics=[\"accuracy\"])"
   ]
  },
  {
   "cell_type": "code",
   "execution_count": 4,
   "metadata": {},
   "outputs": [],
   "source": [
    "\n",
    "# Save the model according to the conditions\n",
    "checkpoint = ModelCheckpoint(\"currency_denominator.h5\", monitor='val_loss', verbose=1, save_best_only=True,\n",
    "                             save_weights_only=False,\n",
    "                             mode='auto', period=1)\n",
    "early = EarlyStopping(monitor='val_loss', min_delta=0, patience=10, verbose=1, mode='auto')"
   ]
  },
  {
   "cell_type": "code",
   "execution_count": 5,
   "metadata": {},
   "outputs": [
    {
     "name": "stdout",
     "output_type": "stream",
     "text": [
      "WARNING:tensorflow:From /opt/conda/lib/python3.7/site-packages/tensorflow/python/ops/math_ops.py:3066: to_int32 (from tensorflow.python.ops.math_ops) is deprecated and will be removed in a future version.\n",
      "Instructions for updating:\n",
      "Use tf.cast instead.\n",
      "Epoch 1/5\n",
      "201/201 [==============================] - 120s 598ms/step - loss: 0.8352 - acc: 0.7668 - val_loss: 0.7787 - val_acc: 0.7602\n",
      "\n",
      "Epoch 00001: val_loss improved from inf to 0.77872, saving model to currency_denominator.h5\n",
      "Epoch 2/5\n",
      "201/201 [==============================] - 117s 584ms/step - loss: 0.1860 - acc: 0.9726 - val_loss: 0.4401 - val_acc: 0.9207\n",
      "\n",
      "Epoch 00002: val_loss improved from 0.77872 to 0.44008, saving model to currency_denominator.h5\n",
      "Epoch 3/5\n",
      "201/201 [==============================] - 117s 582ms/step - loss: 0.0952 - acc: 0.9894 - val_loss: 0.4134 - val_acc: 0.8990\n",
      "\n",
      "Epoch 00003: val_loss improved from 0.44008 to 0.41336, saving model to currency_denominator.h5\n",
      "Epoch 4/5\n",
      "201/201 [==============================] - 117s 582ms/step - loss: 0.0657 - acc: 0.9944 - val_loss: 0.2748 - val_acc: 0.9591\n",
      "\n",
      "Epoch 00004: val_loss improved from 0.41336 to 0.27480, saving model to currency_denominator.h5\n",
      "Epoch 5/5\n",
      "201/201 [==============================] - 117s 581ms/step - loss: 0.0439 - acc: 0.9984 - val_loss: 0.3077 - val_acc: 0.9373\n",
      "\n",
      "Epoch 00005: val_loss did not improve from 0.27480\n"
     ]
    },
    {
     "data": {
      "text/plain": [
       "<keras.callbacks.History at 0x7faaf209e978>"
      ]
     },
     "execution_count": 5,
     "metadata": {},
     "output_type": "execute_result"
    }
   ],
   "source": [
    "model_final.fit_generator(\n",
    "    train_generator,\n",
    "    steps_per_epoch = train_generator.samples // 16,\n",
    "    epochs = 5,\n",
    "    validation_data=validation_generator,\n",
    "    validation_steps = validation_generator.samples // 16,\n",
    "    workers=16,\n",
    "    callbacks=[checkpoint, early])"
   ]
  },
  {
   "cell_type": "code",
   "execution_count": 6,
   "metadata": {},
   "outputs": [],
   "source": [
    "# model save for prediction \n",
    "from keras.models import load_model\n",
    "import h5py"
   ]
  },
  {
   "cell_type": "code",
   "execution_count": 7,
   "metadata": {},
   "outputs": [],
   "source": [
    "model = load_model('/storage/Full_currency/currency_denominator.h5')"
   ]
  },
  {
   "cell_type": "code",
   "execution_count": 8,
   "metadata": {},
   "outputs": [],
   "source": [
    "# prediction for image\n",
    "from keras.preprocessing import image\n",
    "import numpy as np"
   ]
  },
  {
   "cell_type": "code",
   "execution_count": 9,
   "metadata": {},
   "outputs": [],
   "source": [
    "# load image convert to numpy array and rescaling it\n",
    "img = image.load_img('/storage/Full_currency/test7.png', target_size=(224, 224))\n",
    "x = image.img_to_array(img) / 255 \n",
    "x = np.expand_dims(x, axis=0)"
   ]
  },
  {
   "cell_type": "code",
   "execution_count": 11,
   "metadata": {},
   "outputs": [],
   "source": [
    "import matplotlib.pyplot as plt\n"
   ]
  },
  {
   "cell_type": "code",
   "execution_count": null,
   "metadata": {},
   "outputs": [],
   "source": [
    "plt.imshow(img)"
   ]
  },
  {
   "cell_type": "code",
   "execution_count": null,
   "metadata": {},
   "outputs": [],
   "source": [
    "\n",
    "generator= train_datagen.flow_from_directory(\"/storage/Full_currency/Full_currency/Augment_224*224\", batch_size=16)\n",
    "label_map = generator.class_indices"
   ]
  },
  {
   "cell_type": "code",
   "execution_count": null,
   "metadata": {},
   "outputs": [],
   "source": [
    "label_map"
   ]
  },
  {
   "cell_type": "code",
   "execution_count": null,
   "metadata": {},
   "outputs": [],
   "source": [
    "y_prob = model.predict(x) \n",
    "y_classes = y_prob.argmax(axis=-1)"
   ]
  },
  {
   "cell_type": "code",
   "execution_count": null,
   "metadata": {},
   "outputs": [],
   "source": [
    "print(list(label_map.keys())[list(label_map.values()).index(y_classes[0])])"
   ]
  },
  {
   "cell_type": "code",
   "execution_count": null,
   "metadata": {},
   "outputs": [],
   "source": [
    "# Save Model\n",
    "\n",
    "model_final.save('10_class_5_epoch.h6')"
   ]
  }
 ],
 "metadata": {
  "kernelspec": {
   "display_name": "Python 3",
   "language": "python",
   "name": "python3"
  },
  "language_info": {
   "codemirror_mode": {
    "name": "ipython",
    "version": 3
   },
   "file_extension": ".py",
   "mimetype": "text/x-python",
   "name": "python",
   "nbconvert_exporter": "python",
   "pygments_lexer": "ipython3",
   "version": "3.7.1"
  }
 },
 "nbformat": 4,
 "nbformat_minor": 2
}
